{
 "cells": [
  {
   "cell_type": "code",
   "execution_count": 1,
   "metadata": {},
   "outputs": [],
   "source": [
    "# HOW TO READMULTIPLE FILES "
   ]
  },
  {
   "cell_type": "code",
   "execution_count": null,
   "metadata": {},
   "outputs": [],
   "source": [
    "# IMPORT REQUIRED LIBRERIES\n",
    "\n",
    "import os\n",
    "import json\n",
    "\n",
    "path_to_json = \"new/folder/path\"  # seclect the path to read the files\n",
    "\n",
    "for file_name in[file for file in os.listdir(path_to_json) if file.endswith(\".json\")]: # give the type of extension \n",
    "    with open(path_to_json + file_name) as json_file:\n",
    "        data = json.load(json_files)\n",
    "        print(data)"
   ]
  }
 ],
 "metadata": {
  "kernelspec": {
   "display_name": "Python 3",
   "language": "python",
   "name": "python3"
  },
  "language_info": {
   "codemirror_mode": {
    "name": "ipython",
    "version": 3
   },
   "file_extension": ".py",
   "mimetype": "text/x-python",
   "name": "python",
   "nbconvert_exporter": "python",
   "pygments_lexer": "ipython3",
   "version": "3.7.4"
  }
 },
 "nbformat": 4,
 "nbformat_minor": 2
}
