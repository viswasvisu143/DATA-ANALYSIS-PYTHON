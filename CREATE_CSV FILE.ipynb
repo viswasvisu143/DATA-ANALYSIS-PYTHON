{
 "cells": [
  {
   "cell_type": "markdown",
   "metadata": {},
   "source": [
    "## HOW TO CREATE CSV_FILE "
   ]
  },
  {
   "cell_type": "code",
   "execution_count": 1,
   "metadata": {},
   "outputs": [],
   "source": [
    "# IMPOERT LIBRARIES\n",
    "\n",
    "import pandas as pd"
   ]
  },
  {
   "cell_type": "code",
   "execution_count": 2,
   "metadata": {},
   "outputs": [],
   "source": [
    "# CREATE A DATAFRAM USING DICTIONARY\n",
    "\n",
    "df = {\n",
    "    \"ITEMS\": [\"APPLE\",\"ORANGE\",\"GRAPES\",\"BANANA\",\"MANGO\"],\n",
    "    \"per kg\":[\"RS.200\",\"RS.150\",\"RS.250\",\"RS.100\",\"RS.120\"],\n",
    "    \"2 kgs\":[\"RS.400\",\"RS.300\",\"RS.500\",\"RS.200\",\"RS.240\"]\n",
    "}"
   ]
  },
  {
   "cell_type": "code",
   "execution_count": 3,
   "metadata": {},
   "outputs": [],
   "source": [
    "# DATAFRAME\n",
    "\n",
    "DF = pd.DataFrame(df)"
   ]
  },
  {
   "cell_type": "code",
   "execution_count": 4,
   "metadata": {},
   "outputs": [
    {
     "data": {
      "text/html": [
       "<div>\n",
       "<style scoped>\n",
       "    .dataframe tbody tr th:only-of-type {\n",
       "        vertical-align: middle;\n",
       "    }\n",
       "\n",
       "    .dataframe tbody tr th {\n",
       "        vertical-align: top;\n",
       "    }\n",
       "\n",
       "    .dataframe thead th {\n",
       "        text-align: right;\n",
       "    }\n",
       "</style>\n",
       "<table border=\"1\" class=\"dataframe\">\n",
       "  <thead>\n",
       "    <tr style=\"text-align: right;\">\n",
       "      <th></th>\n",
       "      <th>ITEMS</th>\n",
       "      <th>per kg</th>\n",
       "      <th>2 kgs</th>\n",
       "    </tr>\n",
       "  </thead>\n",
       "  <tbody>\n",
       "    <tr>\n",
       "      <td>0</td>\n",
       "      <td>APPLE</td>\n",
       "      <td>RS.200</td>\n",
       "      <td>RS.400</td>\n",
       "    </tr>\n",
       "    <tr>\n",
       "      <td>1</td>\n",
       "      <td>ORANGE</td>\n",
       "      <td>RS.150</td>\n",
       "      <td>RS.300</td>\n",
       "    </tr>\n",
       "    <tr>\n",
       "      <td>2</td>\n",
       "      <td>GRAPES</td>\n",
       "      <td>RS.250</td>\n",
       "      <td>RS.500</td>\n",
       "    </tr>\n",
       "    <tr>\n",
       "      <td>3</td>\n",
       "      <td>BANANA</td>\n",
       "      <td>RS.100</td>\n",
       "      <td>RS.200</td>\n",
       "    </tr>\n",
       "    <tr>\n",
       "      <td>4</td>\n",
       "      <td>MANGO</td>\n",
       "      <td>RS.120</td>\n",
       "      <td>RS.240</td>\n",
       "    </tr>\n",
       "  </tbody>\n",
       "</table>\n",
       "</div>"
      ],
      "text/plain": [
       "    ITEMS  per kg   2 kgs\n",
       "0   APPLE  RS.200  RS.400\n",
       "1  ORANGE  RS.150  RS.300\n",
       "2  GRAPES  RS.250  RS.500\n",
       "3  BANANA  RS.100  RS.200\n",
       "4   MANGO  RS.120  RS.240"
      ]
     },
     "execution_count": 4,
     "metadata": {},
     "output_type": "execute_result"
    }
   ],
   "source": [
    "DF"
   ]
  },
  {
   "cell_type": "markdown",
   "metadata": {},
   "source": [
    "# CREATE CSV FILE"
   ]
  },
  {
   "cell_type": "code",
   "execution_count": 5,
   "metadata": {},
   "outputs": [],
   "source": [
    "DF.to_csv(\"/home/saiviswas/DATA-ANALYSIS-PYTHON/FRUITS_DATA.csv\")"
   ]
  },
  {
   "cell_type": "markdown",
   "metadata": {},
   "source": [
    "### Please check the selected path for CSV file and load the data as (\"pd.read_csv\")"
   ]
  },
  {
   "cell_type": "code",
   "execution_count": 7,
   "metadata": {},
   "outputs": [],
   "source": [
    "# LOAD CSV FILE FROM  THE PATH\n",
    "\n",
    "DATA = pd.read_csv(\"/home/saiviswas/Documents/FRUITS.csv\",index_col = 0)"
   ]
  },
  {
   "cell_type": "code",
   "execution_count": 8,
   "metadata": {},
   "outputs": [
    {
     "data": {
      "text/html": [
       "<div>\n",
       "<style scoped>\n",
       "    .dataframe tbody tr th:only-of-type {\n",
       "        vertical-align: middle;\n",
       "    }\n",
       "\n",
       "    .dataframe tbody tr th {\n",
       "        vertical-align: top;\n",
       "    }\n",
       "\n",
       "    .dataframe thead th {\n",
       "        text-align: right;\n",
       "    }\n",
       "</style>\n",
       "<table border=\"1\" class=\"dataframe\">\n",
       "  <thead>\n",
       "    <tr style=\"text-align: right;\">\n",
       "      <th></th>\n",
       "      <th>ITEMS</th>\n",
       "      <th>per kg</th>\n",
       "      <th>2 kgs</th>\n",
       "    </tr>\n",
       "  </thead>\n",
       "  <tbody>\n",
       "    <tr>\n",
       "      <td>0</td>\n",
       "      <td>APPLE</td>\n",
       "      <td>RS.200</td>\n",
       "      <td>RS.400</td>\n",
       "    </tr>\n",
       "    <tr>\n",
       "      <td>1</td>\n",
       "      <td>ORANGE</td>\n",
       "      <td>RS.150</td>\n",
       "      <td>RS.300</td>\n",
       "    </tr>\n",
       "    <tr>\n",
       "      <td>2</td>\n",
       "      <td>GRAPES</td>\n",
       "      <td>RS.250</td>\n",
       "      <td>RS.500</td>\n",
       "    </tr>\n",
       "    <tr>\n",
       "      <td>3</td>\n",
       "      <td>BANANA</td>\n",
       "      <td>RS.100</td>\n",
       "      <td>RS.200</td>\n",
       "    </tr>\n",
       "    <tr>\n",
       "      <td>4</td>\n",
       "      <td>MANGO</td>\n",
       "      <td>RS.120</td>\n",
       "      <td>RS.240</td>\n",
       "    </tr>\n",
       "  </tbody>\n",
       "</table>\n",
       "</div>"
      ],
      "text/plain": [
       "    ITEMS  per kg   2 kgs\n",
       "0   APPLE  RS.200  RS.400\n",
       "1  ORANGE  RS.150  RS.300\n",
       "2  GRAPES  RS.250  RS.500\n",
       "3  BANANA  RS.100  RS.200\n",
       "4   MANGO  RS.120  RS.240"
      ]
     },
     "execution_count": 8,
     "metadata": {},
     "output_type": "execute_result"
    }
   ],
   "source": [
    "# READ DATA\n",
    "\n",
    "DATA"
   ]
  }
 ],
 "metadata": {
  "kernelspec": {
   "display_name": "Python 3",
   "language": "python",
   "name": "python3"
  },
  "language_info": {
   "codemirror_mode": {
    "name": "ipython",
    "version": 3
   },
   "file_extension": ".py",
   "mimetype": "text/x-python",
   "name": "python",
   "nbconvert_exporter": "python",
   "pygments_lexer": "ipython3",
   "version": "3.7.4"
  }
 },
 "nbformat": 4,
 "nbformat_minor": 2
}
