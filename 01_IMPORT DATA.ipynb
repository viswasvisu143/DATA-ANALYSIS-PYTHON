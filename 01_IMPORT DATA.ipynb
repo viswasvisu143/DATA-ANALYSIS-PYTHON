{
 "cells": [
  {
   "cell_type": "markdown",
   "metadata": {},
   "source": [
    "## HOW TO IMPORT DATA AND EXPORT DATA"
   ]
  },
  {
   "cell_type": "code",
   "execution_count": 41,
   "metadata": {},
   "outputs": [],
   "source": [
    "#IMPORTING LIBRARY"
   ]
  },
  {
   "cell_type": "code",
   "execution_count": 1,
   "metadata": {},
   "outputs": [],
   "source": [
    "import pandas as pd"
   ]
  },
  {
   "cell_type": "code",
   "execution_count": null,
   "metadata": {},
   "outputs": [],
   "source": [
    "# Formates = .csv,.json,.xslx,.hdf"
   ]
  },
  {
   "cell_type": "code",
   "execution_count": 11,
   "metadata": {},
   "outputs": [],
   "source": [
    "# Exporting data to different formates in python\n",
    "# pd is pandas library\n",
    "# df is dataframe\n",
    "\n",
    "Formate = {\n",
    "    'DATAFORMATE':[\"csv\",\"json\",\"excel\",\"sql\"],\n",
    "    'READ':[\"pd.read_csv()\",\"pd.read_json()\",\"pd.read_excel()\",\"pd.read_sql()\"],\n",
    "    'SAVE':[\"df.to_csv()\",\"df.to_json()\",\"df.to_excel()\",\"df.to_sql()\"]\n",
    "} "
   ]
  },
  {
   "cell_type": "code",
   "execution_count": 15,
   "metadata": {},
   "outputs": [
    {
     "data": {
      "text/html": [
       "<div>\n",
       "<style scoped>\n",
       "    .dataframe tbody tr th:only-of-type {\n",
       "        vertical-align: middle;\n",
       "    }\n",
       "\n",
       "    .dataframe tbody tr th {\n",
       "        vertical-align: top;\n",
       "    }\n",
       "\n",
       "    .dataframe thead th {\n",
       "        text-align: right;\n",
       "    }\n",
       "</style>\n",
       "<table border=\"1\" class=\"dataframe\">\n",
       "  <thead>\n",
       "    <tr style=\"text-align: right;\">\n",
       "      <th></th>\n",
       "      <th>DATAFORMATE</th>\n",
       "      <th>READ</th>\n",
       "      <th>SAVE</th>\n",
       "    </tr>\n",
       "  </thead>\n",
       "  <tbody>\n",
       "    <tr>\n",
       "      <td>0</td>\n",
       "      <td>csv</td>\n",
       "      <td>pd.read_csv()</td>\n",
       "      <td>df.to_csv()</td>\n",
       "    </tr>\n",
       "    <tr>\n",
       "      <td>1</td>\n",
       "      <td>json</td>\n",
       "      <td>pd.read_json()</td>\n",
       "      <td>df.to_json()</td>\n",
       "    </tr>\n",
       "    <tr>\n",
       "      <td>2</td>\n",
       "      <td>excel</td>\n",
       "      <td>pd.read_excel()</td>\n",
       "      <td>df.to_excel()</td>\n",
       "    </tr>\n",
       "    <tr>\n",
       "      <td>3</td>\n",
       "      <td>sql</td>\n",
       "      <td>pd.read_sql()</td>\n",
       "      <td>df.to_sql()</td>\n",
       "    </tr>\n",
       "  </tbody>\n",
       "</table>\n",
       "</div>"
      ],
      "text/plain": [
       "  DATAFORMATE             READ           SAVE\n",
       "0         csv    pd.read_csv()    df.to_csv()\n",
       "1        json   pd.read_json()   df.to_json()\n",
       "2       excel  pd.read_excel()  df.to_excel()\n",
       "3         sql    pd.read_sql()    df.to_sql()"
      ]
     },
     "execution_count": 15,
     "metadata": {},
     "output_type": "execute_result"
    }
   ],
   "source": [
    "pd.DataFrame(Formate)"
   ]
  },
  {
   "cell_type": "markdown",
   "metadata": {},
   "source": [
    "## LOAD DATA"
   ]
  },
  {
   "cell_type": "markdown",
   "metadata": {},
   "source": [
    "#### File location can be taken from local system or from URL"
   ]
  },
  {
   "cell_type": "code",
   "execution_count": null,
   "metadata": {},
   "outputs": [],
   "source": [
    "# LOAD THE PATH OF DATA\n",
    "\n",
    "csv_path = \"File Location\\Filename.csv\""
   ]
  },
  {
   "cell_type": "code",
   "execution_count": 3,
   "metadata": {},
   "outputs": [],
   "source": [
    "# READ THE DATA\n",
    "\n",
    "DATA = pd.read_csv(csv_path)"
   ]
  },
  {
   "cell_type": "code",
   "execution_count": 4,
   "metadata": {},
   "outputs": [],
   "source": [
    "#CHECK THE DATAFRAME\n",
    "\n",
    "DATA"
   ]
  },
  {
   "cell_type": "code",
   "execution_count": null,
   "metadata": {},
   "outputs": [],
   "source": [
    "# FOR ACCESSING FIRST FIVE LINES\n",
    "\n",
    "DATA.head(5)"
   ]
  },
  {
   "cell_type": "markdown",
   "metadata": {},
   "source": [
    "#### For saving modified  dataset"
   ]
  },
  {
   "cell_type": "code",
   "execution_count": 5,
   "metadata": {},
   "outputs": [],
   "source": [
    "# MODIFY THE DATA AND SAVE THE DATAFRAME\n",
    "\n",
    "path = \"File location\\ FileName.csv\"\n",
    "\n",
    "DATA.to_csv(path)"
   ]
  },
  {
   "cell_type": "markdown",
   "metadata": {},
   "source": [
    "### FOR DATAMODIFICATION CHECK FILE IN REPO"
   ]
  },
  {
   "cell_type": "markdown",
   "metadata": {},
   "source": [
    "# END"
   ]
  }
 ],
 "metadata": {
  "kernelspec": {
   "display_name": "Python 3",
   "language": "python",
   "name": "python3"
  },
  "language_info": {
   "codemirror_mode": {
    "name": "ipython",
    "version": 3
   },
   "file_extension": ".py",
   "mimetype": "text/x-python",
   "name": "python",
   "nbconvert_exporter": "python",
   "pygments_lexer": "ipython3",
   "version": "3.7.4"
  }
 },
 "nbformat": 4,
 "nbformat_minor": 2
}
